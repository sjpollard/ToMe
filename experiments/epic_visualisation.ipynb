{
 "cells": [
  {
   "cell_type": "markdown",
   "metadata": {},
   "source": [
    "## ToMe Visualization - EPIC"
   ]
  },
  {
   "cell_type": "code",
   "execution_count": 1,
   "metadata": {},
   "outputs": [],
   "source": [
    "import timm\n",
    "import tome\n",
    "from torchvision import transforms\n",
    "from torchvision.transforms.functional import InterpolationMode\n",
    "from PIL import Image"
   ]
  },
  {
   "cell_type": "code",
   "execution_count": 2,
   "metadata": {},
   "outputs": [],
   "source": [
    "# We use the timm augreg models here, but you can use any supported implementation.\n",
    "model_name = \"vit_base_patch16_224\"\n",
    "model = timm.create_model(model_name, pretrained=True)\n",
    "\n",
    "# Source tracing is necessary for visualization!\n",
    "tome.patch.timm(model, trace_source=True)"
   ]
  },
  {
   "cell_type": "code",
   "execution_count": 4,
   "metadata": {},
   "outputs": [],
   "source": [
    "input_size = model.default_cfg[\"input_size\"][1]\n",
    "\n",
    "# Make sure the transform is correct for your model!\n",
    "transform_list = [\n",
    "    transforms.Resize((224, 224), interpolation=InterpolationMode.BICUBIC),\n",
    "]\n",
    "\n",
    "# The visualization and model need different transforms\n",
    "transform_vis  = transforms.Compose(transform_list)\n",
    "transform_norm = transforms.Compose(transform_list + [\n",
    "    transforms.ToTensor(),\n",
    "    transforms.Normalize(model.default_cfg[\"mean\"], model.default_cfg[\"std\"]),\n",
    "])"
   ]
  },
  {
   "cell_type": "code",
   "execution_count": 10,
   "metadata": {},
   "outputs": [
    {
     "name": "stdout",
     "output_type": "stream",
     "text": [
      "torch.Size([3, 224, 224])\n"
     ]
    }
   ],
   "source": [
    "img = Image.open(\"../examples/images/husky.png\")\n",
    "img_vis = transform_vis(img)\n",
    "img_norm = transform_norm(img)\n",
    "\n",
    "img"
   ]
  },
  {
   "cell_type": "markdown",
   "metadata": {},
   "source": [
    "## Visualize one image\n",
    "You can play with the `r` value to get different numbers of tokens at the end of the network."
   ]
  },
  {
   "cell_type": "code",
   "execution_count": 17,
   "metadata": {},
   "outputs": [
    {
     "name": "stdout",
     "output_type": "stream",
     "text": [
      "101 tokens at the end\n"
     ]
    },
    {
     "data": {
      "image/jpeg": "[encoded data removed]",
      "image/png": "[encoded data removed]",
      "text/plain": [
       "<PIL.Image.Image image mode=RGB size=224x224>"
      ]
     },
     "execution_count": 17,
     "metadata": {},
     "output_type": "execute_result"
    }
   ],
   "source": [
    "model.r = 8\n",
    "_ = model(img_norm[None, ...])\n",
    "source = model._tome_info[\"source\"]\n",
    "\n",
    "print(f\"{source.shape[1]} tokens at the end\")\n",
    "tome.make_visualization(img_vis, source, patch_size=16, class_token=True)"
   ]
  }
 ],
 "metadata": {
  "kernelspec": {
   "display_name": "Python 3.10.6 ('tome')",
   "language": "python",
   "name": "python3"
  },
  "language_info": {
   "codemirror_mode": {
    "name": "ipython",
    "version": 3
   },
   "file_extension": ".py",
   "mimetype": "text/x-python",
   "name": "python",
   "nbconvert_exporter": "python",
   "pygments_lexer": "ipython3",
   "version": "3.10.13"
  },
  "orig_nbformat": 4,
  "vscode": {
   "interpreter": {
    "hash": "05c3e7d5f676d27e80c59167888c7f79621c476ae5272fc4e435fcce0be043ba"
   }
  }
 },
 "nbformat": 4,
 "nbformat_minor": 2
}
